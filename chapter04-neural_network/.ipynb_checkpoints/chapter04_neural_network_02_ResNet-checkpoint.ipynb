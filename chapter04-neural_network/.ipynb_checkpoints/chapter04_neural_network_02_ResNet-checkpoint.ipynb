{
 "cells": [
  {
   "cell_type": "code",
   "execution_count": 1,
   "metadata": {},
   "outputs": [],
   "source": [
    "import torch as t\n",
    "from torch import nn\n",
    "from torch.nn import functional as F"
   ]
  },
  {
   "cell_type": "code",
   "execution_count": null,
   "metadata": {},
   "outputs": [],
   "source": [
    "# 残差模块\n",
    "class ResidualBlock(nn.Module):\n",
    "    \n",
    "    def __init__(self,inc,ouc,stride=1,shortcut=None):\n",
    "        nn.Module.__init__(self)\n",
    "        self.left = nn.Sequential(\n",
    "            nn.Conv2d(inc,ouc,3,stride,1,bias=False),\n",
    "            nn.BatchNorm2d(ouc),\n",
    "            nn.ReLU(inplace=True),\n",
    "            nn.Conv2d(ouc,ouc,3,1,1,bias=False),\n",
    "            nn.BatchNorm2d(ouc))\n",
    "        self.right = shortcut\n",
    "        \n",
    "    def forward(self,x):\n",
    "        out = self.left(x)\n",
    "        residual = x if self.right is None else self.right(x)\n",
    "        out += residual\n",
    "        return F.relu(out)"
   ]
  },
  {
   "cell_type": "code",
   "execution_count": null,
   "metadata": {},
   "outputs": [],
   "source": [
    "class ResNet(nn.Module):\n",
    "    \n",
    "    def __init__(self,num_classes=1000):\n",
    "        nn.Module.__init__(self)\n",
    "        self.pre = nn.Sequential(\n",
    "            nn.Conv2d(3,64,7,2,3,bias=False),\n",
    "            nn.BatchNorm2d(64),\n",
    "            nn.ReLU(inplace=True),\n",
    "            nn.MaxPool2d(3,2,1))\n",
    "        \n",
    "        self.layer1 = self._make_layer( 64, 64, 3)\n",
    "        self.layer2 = self._make_layer( 64, 128, 4, stride=2)\n",
    "        self.layer3 = self._make_layer( 128, 256, 6, stride=2)\n",
    "        self.layer4 = self._make_layer( 256, 512, 3, stride=2)\n",
    "        \n",
    "        self.fc = nn.Linear(512, num_classes)\n",
    "        \n",
    "    # 一个layer,包含多个residual block \n",
    "    def _make_layer(self,inc,ouc,block_num,stride=1):\n",
    "        \n",
    "        shortcut = nn.Sequential(\n",
    "            nn.Conv2d(inc,outc,1,stride,bias=False),\n",
    "            nn.BatchNorm2d(outc))\n",
    "        \n",
    "        layers = []\n",
    "        layers.append(ResidualBlock(inc,ouc,stride,shortcut))\n",
    "        \n",
    "        for i in range(1, block_num):\n",
    "            layers.append(ResidualBlock(outchannel, outchannel))\n",
    "        return nn.Sequential(*layers)\n",
    "    \n",
    "    def forward(self, x):\n",
    "        x = self.pre(x)\n",
    "        \n",
    "        x = self.layer1(x)\n",
    "        x = self.layer2(x)\n",
    "        x = self.layer3(x)\n",
    "        x = self.layer4(x)\n",
    "\n",
    "        x = F.avg_pool2d(x, 7)\n",
    "        x = x.view(x.size(0), -1)\n",
    "        return self.fc(x)"
   ]
  },
  {
   "cell_type": "code",
   "execution_count": null,
   "metadata": {},
   "outputs": [],
   "source": [
    "model = ResNet()\n",
    "input  = t.randn(1, 3, 224, 224)\n",
    "o = model(input)"
   ]
  }
 ],
 "metadata": {
  "kernelspec": {
   "display_name": "Python 3",
   "language": "python",
   "name": "python3"
  },
  "language_info": {
   "codemirror_mode": {
    "name": "ipython",
    "version": 3
   },
   "file_extension": ".py",
   "mimetype": "text/x-python",
   "name": "python",
   "nbconvert_exporter": "python",
   "pygments_lexer": "ipython3",
   "version": "3.7.9"
  }
 },
 "nbformat": 4,
 "nbformat_minor": 4
}
